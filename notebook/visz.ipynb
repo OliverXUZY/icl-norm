{
 "metadata": {
  "language_info": {
   "codemirror_mode": {
    "name": "ipython",
    "version": 3
   },
   "file_extension": ".py",
   "mimetype": "text/x-python",
   "name": "python",
   "nbconvert_exporter": "python",
   "pygments_lexer": "ipython3",
   "version": "3.10.0-final"
  },
  "orig_nbformat": 2,
  "kernelspec": {
   "name": "python3",
   "display_name": "Python 3.10.0 64-bit ('lmeval': conda)",
   "metadata": {
    "interpreter": {
     "hash": "ba2cdcc4f8950e3d775151641d803c18bfa55c928aa4ecf7e617d7045a03dc60"
    }
   }
  }
 },
 "nbformat": 4,
 "nbformat_minor": 2,
 "cells": [
  {
   "cell_type": "code",
   "execution_count": 6,
   "metadata": {},
   "outputs": [],
   "source": [
    "import torch\n",
    "import os\n",
    "os.chdir(\"/home/user/Documents/projects/icl-norm\")\n",
    "import json"
   ]
  },
  {
   "cell_type": "code",
   "execution_count": 7,
   "metadata": {},
   "outputs": [],
   "source": [
    "# Function to load JSON data from a file\n",
    "def load_json(file_path):\n",
    "   with open(file_path, 'r') as file:\n",
    "       return json.load(file)"
   ]
  },
  {
   "cell_type": "code",
   "execution_count": 8,
   "metadata": {},
   "outputs": [],
   "source": [
    "indices = load_json(\"data/indices.json\")"
   ]
  },
  {
   "cell_type": "code",
   "execution_count": 10,
   "metadata": {},
   "outputs": [],
   "source": [
    "attn_matrix = torch.load(\"save/attn_mtx.pth\")"
   ]
  },
  {
   "cell_type": "code",
   "execution_count": 12,
   "metadata": {},
   "outputs": [
    {
     "output_type": "stream",
     "name": "stdout",
     "text": [
      "torch.Size([60, 60])\ntorch.Size([59, 59])\ntorch.Size([61, 61])\ntorch.Size([60, 60])\ntorch.Size([65, 65])\ntorch.Size([64, 64])\ntorch.Size([92, 92])\ntorch.Size([90, 90])\ntorch.Size([66, 66])\ntorch.Size([66, 66])\ntorch.Size([56, 56])\ntorch.Size([56, 56])\ntorch.Size([69, 69])\ntorch.Size([69, 69])\ntorch.Size([69, 69])\ntorch.Size([68, 68])\ntorch.Size([64, 64])\ntorch.Size([65, 65])\ntorch.Size([48, 48])\ntorch.Size([48, 48])\n"
     ]
    }
   ],
   "source": [
    "pos = []\n",
    "neg = []\n",
    "i = 0\n",
    "while i < len(attn_matrix)-1:\n",
    "    pos.append(attn_matrix[i])\n",
    "    neg.append(attn_matrix[i+1])\n",
    "    i += 2"
   ]
  },
  {
   "cell_type": "code",
   "execution_count": null,
   "metadata": {},
   "outputs": [],
   "source": [
    "pos"
   ]
  },
  {
   "cell_type": "code",
   "execution_count": null,
   "metadata": {},
   "outputs": [],
   "source": []
  }
 ]
}