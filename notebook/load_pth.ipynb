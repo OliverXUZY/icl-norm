{
 "cells": [
  {
   "cell_type": "code",
   "execution_count": 2,
   "metadata": {},
   "outputs": [],
   "source": [
    "import torch\n",
    "import os\n",
    "os.chdir(\"/Users/zyxu/Documents/py/NLP/icl-norm/\")\n",
    "import json\n",
    "import numpy as np"
   ]
  },
  {
   "cell_type": "code",
   "execution_count": 3,
   "metadata": {},
   "outputs": [],
   "source": [
    "# Function to load JSON data from a file\n",
    "def load_json(file_path):\n",
    "   with open(file_path, 'r') as file:\n",
    "       return json.load(file)"
   ]
  },
  {
   "cell_type": "code",
   "execution_count": 4,
   "metadata": {},
   "outputs": [],
   "source": [
    "indices = load_json(\"data/indices_GSM.json\")"
   ]
  },
  {
   "cell_type": "code",
   "execution_count": 7,
   "metadata": {},
   "outputs": [],
   "source": [
    "attn_matrix = torch.load(\"save/attn_mtx_Llama-2-70b-hf.pth\", map_location=torch.device('cpu'))"
   ]
  },
  {
   "cell_type": "code",
   "execution_count": 8,
   "metadata": {},
   "outputs": [],
   "source": [
    "pos = []\n",
    "neg = []\n",
    "i = 0\n",
    "while i < len(attn_matrix)-1:\n",
    "    pos.append(attn_matrix[i])\n",
    "    neg.append(attn_matrix[i+1])\n",
    "    i += 2"
   ]
  },
  {
   "cell_type": "code",
   "execution_count": 9,
   "metadata": {},
   "outputs": [],
   "source": [
    "mat = pos[0]\n",
    "start, end = indices[0]"
   ]
  },
  {
   "cell_type": "code",
   "execution_count": 13,
   "metadata": {},
   "outputs": [
    {
     "data": {
      "text/plain": [
       "torch.Size([60, 60])"
      ]
     },
     "execution_count": 13,
     "metadata": {},
     "output_type": "execute_result"
    }
   ],
   "source": [
    "mat.shape"
   ]
  },
  {
   "cell_type": "code",
   "execution_count": 10,
   "metadata": {},
   "outputs": [
    {
     "data": {
      "text/plain": [
       "tensor(0.0569, dtype=torch.float16)"
      ]
     },
     "execution_count": 10,
     "metadata": {},
     "output_type": "execute_result"
    }
   ],
   "source": [
    "mat[-2, :start].norm()"
   ]
  },
  {
   "cell_type": "code",
   "execution_count": 11,
   "metadata": {},
   "outputs": [
    {
     "data": {
      "text/plain": [
       "tensor(0.4629, dtype=torch.float16)"
      ]
     },
     "execution_count": 11,
     "metadata": {},
     "output_type": "execute_result"
    }
   ],
   "source": [
    "mat[-2, start:end].norm()"
   ]
  },
  {
   "cell_type": "code",
   "execution_count": 9,
   "metadata": {},
   "outputs": [
    {
     "name": "stdout",
     "output_type": "stream",
     "text": [
      "torch.Size([60, 60])\n",
      "torch.Size([61, 61])\n",
      "torch.Size([65, 65])\n",
      "torch.Size([92, 92])\n",
      "torch.Size([66, 66])\n",
      "torch.Size([56, 56])\n",
      "torch.Size([69, 69])\n",
      "torch.Size([69, 69])\n",
      "torch.Size([64, 64])\n",
      "torch.Size([48, 48])\n"
     ]
    }
   ],
   "source": [
    "\n",
    "for ids, mat in enumerate(pos):\n",
    "    print(mat.shape)"
   ]
  },
  {
   "cell_type": "code",
   "execution_count": 10,
   "metadata": {},
   "outputs": [
    {
     "name": "stdout",
     "output_type": "stream",
     "text": [
      "torch.Size([59, 59])\n",
      "torch.Size([60, 60])\n",
      "torch.Size([64, 64])\n",
      "torch.Size([90, 90])\n",
      "torch.Size([66, 66])\n",
      "torch.Size([56, 56])\n",
      "torch.Size([69, 69])\n",
      "torch.Size([68, 68])\n",
      "torch.Size([65, 65])\n",
      "torch.Size([48, 48])\n"
     ]
    }
   ],
   "source": [
    "for ids, mat in enumerate(neg):\n",
    "    print(mat.shape)"
   ]
  },
  {
   "cell_type": "code",
   "execution_count": null,
   "metadata": {},
   "outputs": [],
   "source": []
  },
  {
   "cell_type": "code",
   "execution_count": 19,
   "metadata": {},
   "outputs": [],
   "source": [
    "norms = []\n",
    "for i, (pmat, nmat) in enumerate(zip(pos,neg)):\n",
    "    tmp = []\n",
    "    start, end = indices[i]\n",
    "    tmp.append(pmat[-2, :start].norm())\n",
    "    tmp.append(pmat[-2, start:end].norm())\n",
    "    tmp.append(nmat[-2, :start].norm())\n",
    "    tmp.append(nmat[-2, start:end].norm())\n",
    "\n",
    "    norms.append(tmp)\n",
    "    "
   ]
  },
  {
   "cell_type": "code",
   "execution_count": 22,
   "metadata": {},
   "outputs": [
    {
     "data": {
      "text/plain": [
       "array([[0.3707739 , 0.22571565, 0.3817914 , 0.20794344],\n",
       "       [0.36862367, 0.23230521, 0.37155896, 0.21889375],\n",
       "       [0.6082821 , 0.01835984, 0.5865584 , 0.01697248],\n",
       "       [0.37444642, 0.22005875, 0.38027644, 0.21265191],\n",
       "       [0.37992856, 0.21442491, 0.37149003, 0.21127015],\n",
       "       [0.6047207 , 0.02330276, 0.6047207 , 0.02330276],\n",
       "       [0.62064755, 0.01129241, 0.5926307 , 0.01458439],\n",
       "       [0.36233684, 0.22714531, 0.3691603 , 0.21698304],\n",
       "       [0.4808002 , 0.233961  , 0.39831296, 0.2224588 ],\n",
       "       [0.54032445, 0.01681085, 0.54032445, 0.01681085]], dtype=float32)"
      ]
     },
     "execution_count": 22,
     "metadata": {},
     "output_type": "execute_result"
    }
   ],
   "source": [
    "np.array(norms)"
   ]
  },
  {
   "cell_type": "code",
   "execution_count": null,
   "metadata": {},
   "outputs": [],
   "source": []
  }
 ],
 "metadata": {
  "kernelspec": {
   "display_name": "Python 3.10.0 64-bit ('lmeval': conda)",
   "metadata": {
    "interpreter": {
     "hash": "ba2cdcc4f8950e3d775151641d803c18bfa55c928aa4ecf7e617d7045a03dc60"
    }
   },
   "name": "python3"
  },
  "language_info": {
   "codemirror_mode": {
    "name": "ipython",
    "version": 3
   },
   "file_extension": ".py",
   "mimetype": "text/x-python",
   "name": "python",
   "nbconvert_exporter": "python",
   "pygments_lexer": "ipython3",
   "version": "3.10.0"
  },
  "orig_nbformat": 2
 },
 "nbformat": 4,
 "nbformat_minor": 2
}
